{
 "cells": [
  {
   "cell_type": "markdown",
   "metadata": {},
   "source": [
    "![Python Logo](./img/python-logo-master-v3-TM-flattened_small.png)\n",
    "\n",
    "# Financial Programming - IÉSEG, Lille - MBD 2017-2018\n",
    "## Group Project - Financial Data"
   ]
  },
  {
   "cell_type": "markdown",
   "metadata": {},
   "source": [
    "### Data Exploration"
   ]
  },
  {
   "cell_type": "code",
   "execution_count": 1,
   "metadata": {
    "collapsed": true
   },
   "outputs": [],
   "source": [
    "# Import libraries\n",
    "import numpy as np\n",
    "import pandas as pd\n",
    "import matplotlib.pyplot as plt\n",
    "import datetime\n",
    "from collections import defaultdict\n",
    "\n",
    "# To be used to determine age & card duration\n",
    "ref_date = datetime.datetime(year=2018, day=14, month=12)"
   ]
  },
  {
   "cell_type": "markdown",
   "metadata": {},
   "source": [
    "**Input data**"
   ]
  },
  {
   "cell_type": "code",
   "execution_count": 2,
   "metadata": {
    "collapsed": true
   },
   "outputs": [],
   "source": [
    "# Each record describes static characteristics of an account\n",
    "account = pd.read_csv('./data_berka/account.asc', sep=';')\n",
    "order = pd.read_csv('./data_berka/order.asc', sep=';')\n",
    "trans = pd.read_csv('./data_berka/trans.asc', sep=';', low_memory=False)\n",
    "loan = pd.read_csv('./data_berka/loan.asc', sep=';')\n",
    "\n",
    "disp = pd.read_csv('./data_berka/disp.asc', sep=';')\n",
    "card = pd.read_csv('./data_berka/card.asc', sep=';')\n",
    "client = pd.read_csv('./data_berka/client.asc', sep=';')\n",
    "district = pd.read_csv('./data_berka/district.asc', sep=';')"
   ]
  },
  {
   "cell_type": "markdown",
   "metadata": {},
   "source": [
    "#### Preprocessing the disp dataset"
   ]
  },
  {
   "cell_type": "code",
   "execution_count": 3,
   "metadata": {
    "collapsed": true
   },
   "outputs": [],
   "source": [
    "disp = disp.rename(columns={\"type\":\"disp_type\"})"
   ]
  },
  {
   "cell_type": "markdown",
   "metadata": {},
   "source": [
    "#### Preprocessing the card dataset"
   ]
  },
  {
   "cell_type": "code",
   "execution_count": 4,
   "metadata": {
    "collapsed": true
   },
   "outputs": [],
   "source": [
    "card.issued = card.issued.apply(lambda x: (ref_date - pd.to_datetime(x[:6], format='%y%m%d')).days)\n",
    "\n",
    "card = card.rename(columns={\"type\":\"card_type\", \"issued\":\"days_since_card_issuance\"})"
   ]
  },
  {
   "cell_type": "markdown",
   "metadata": {},
   "source": [
    "#### Preprocessing the client dataset"
   ]
  },
  {
   "cell_type": "code",
   "execution_count": 5,
   "metadata": {
    "collapsed": true
   },
   "outputs": [],
   "source": [
    "# returns the nth digits from a number\n",
    "def get_nth(number, nth):\n",
    "    \"\"\"nth should be an index or list of indexes for which to retrieve the digits\"\"\"\n",
    "    return int(\"\".join([val for i, val in enumerate(str(number)) if i in nth]))\n",
    "\n",
    "# returns the month of birth_number.\n",
    "def get_month(x):\n",
    "    mth = get_nth(x, [2, 3])\n",
    "    if mth > 50:\n",
    "        return mth - 50\n",
    "    else:\n",
    "        return mth\n",
    "    \n",
    "# returns the gender by examining birth_number.\n",
    "def birth_num_to_gender(x):\n",
    "    mth = get_nth(x, [2, 3])\n",
    "    if mth > 50:\n",
    "        return 'F'\n",
    "    else:\n",
    "        return 'M'\n",
    "\n",
    "# converts the birth_number into a date.\n",
    "def birth_num_to_age(x):\n",
    "    yr = get_nth(x, [0, 1]) + 1900\n",
    "    mth = get_month(x)\n",
    "    day = get_nth(x, [4, 5])\n",
    "    return round((ref_date - datetime.datetime(yr, mth, day)).days/365, 2)\n",
    "\n",
    "client[\"client_age\"] = client.birth_number.apply(birth_num_to_age)\n",
    "client[\"client_gender\"] = client.birth_number.apply(birth_num_to_gender)\n",
    "del client[\"birth_number\"]"
   ]
  },
  {
   "cell_type": "markdown",
   "metadata": {},
   "source": [
    "#### Preprocessing the district dataset"
   ]
  },
  {
   "cell_type": "code",
   "execution_count": 6,
   "metadata": {
    "collapsed": true
   },
   "outputs": [],
   "source": [
    "district = district.rename(columns={'A1':'district_id', 'A2':'district_name', 'A3':'region', 'A4':'num_inhabitants', 'A5':'num_munipalities_gt499',\n",
    " 'A6':'num_munipalities_500to1999', 'A7':'num_munipalities_2000to9999', 'A8':'num_munipalities_gt10000',\n",
    " 'A9':'num_cities', 'A10':'ratio_urban', 'A11':'average_salary', 'A12':'unemp_rate95', 'A13': 'unemp_rate96',\n",
    " 'A14':'num_entrep_per1000', 'A15':'num_crimes95', 'A16':'num_crimes96'})\n",
    "\n",
    "# Replacing \"?\" with proper missing values\n",
    "district.unemp_rate95 = district.unemp_rate95.apply(lambda x: np.nan if x == \"?\" else x)\n",
    "district.num_crimes95 = district.num_crimes95.apply(lambda x: np.nan if x == \"?\" else x)\n",
    "\n",
    "# Converting the columns from string to floats\n",
    "district.unemp_rate95 = district.unemp_rate95.apply(float)\n",
    "district.num_crimes95 = district.num_crimes95.apply(float)\n",
    "\n",
    "# Dealing with missing values (replace with mean of the region)\n",
    "district.unemp_rate95 = district.groupby(\"region\").unemp_rate95.transform(lambda x: x.fillna(x.mean()))\n",
    "district.num_crimes95 = district.groupby(\"region\").unemp_rate95.transform(lambda x: x.fillna(x.mean()))"
   ]
  },
  {
   "cell_type": "code",
   "execution_count": 7,
   "metadata": {
    "collapsed": true
   },
   "outputs": [],
   "source": [
    "# ref_start_date = datetime.datetime(year=1993, day=1, month=1)\n",
    "\n",
    "# converts the encoded date into a normal date.\n",
    "def get_date(x):\n",
    "    yr = get_nth(x, [0, 1]) + 1900\n",
    "    mth = get_month(x)\n",
    "    day = get_nth(x, [4, 5])\n",
    "    return datetime.datetime(yr, mth, day)"
   ]
  },
  {
   "cell_type": "markdown",
   "metadata": {},
   "source": [
    "#### Preprocessing the account dataset"
   ]
  },
  {
   "cell_type": "code",
   "execution_count": 8,
   "metadata": {
    "collapsed": true
   },
   "outputs": [],
   "source": [
    "# Rename Account columns\n",
    "account = account.rename(columns={'district_id': 'account_district_id','frequency': 'account_freq','date':'account_date_opened'})\n",
    "\n",
    "# convert Account opening date to normal date\n",
    "account['account_date_opened'] = account.account_date_opened.apply(get_date)\n",
    "\n",
    "# convert account frequency to english\n",
    "freq_options = defaultdict(lambda: 'UNKNOWN', \n",
    "                           {'POPLATEK MESICNE': 'MONTHLY', \n",
    "                            'POPLATEK TYDNE': 'WEEKLY', \n",
    "                            'POPLATEK PO OBRATU': 'TRANSACTION'})\n",
    "\n",
    "account['account_freq'] = account.account_freq.apply(lambda x: freq_options[x])"
   ]
  },
  {
   "cell_type": "markdown",
   "metadata": {},
   "source": [
    "#### Preprocessing the Order dataset"
   ]
  },
  {
   "cell_type": "code",
   "execution_count": 9,
   "metadata": {
    "collapsed": true
   },
   "outputs": [],
   "source": [
    "# Rename loan columns\n",
    "order = order.rename(columns={'bank_to': 'order_bank_to', 'account_to':'order_account_to', 'amount':'order_amount',\n",
    "                                   'k_symbol':'order_k_symbol'})\n",
    "\n",
    "# convert order K-symbol to english\n",
    "k_symbol_options = defaultdict(lambda: 'UNKNOWN', \n",
    "                           {'POJISTNE': 'INSURANCE_PAYMENT', \n",
    "                            'SIPO': 'HOUSEHOLD_PAYMENT', \n",
    "                            'LEASING': 'LEASING_PAYMENT',\n",
    "                            'UVER':'LOAN_PAYMENT'})\n",
    "\n",
    "order['order_k_symbol'] = order.order_k_symbol.apply(lambda x: k_symbol_options[x])"
   ]
  },
  {
   "cell_type": "code",
   "execution_count": 11,
   "metadata": {
    "collapsed": true
   },
   "outputs": [],
   "source": [
    "# Function to Recency, Frequency and Monetory aggregated values - Order data\n",
    "def order_agg(row):\n",
    "    row['freq_orders'] = row['order_id'].count()\n",
    "    \n",
    "    ins = row.loc[(row.order_k_symbol == 'INSURANCE_PAYMENT')]\n",
    "    house = row.loc[(row.order_k_symbol == 'HOUSEHOLD_PAYMENT')]\n",
    "    lease = row.loc[(row.order_k_symbol == 'LEASING_PAYMENT')]\n",
    "    \n",
    "    row['freq_order_insurance'] = ins['order_id'].count()\n",
    "    row['freq_order_household'] = house['order_id'].count()\n",
    "    row['freq_order_leasing'] = lease['order_id'].count()\n",
    "    \n",
    "    row['mon_order_insurance'] = ins['order_amount'].mean()\n",
    "    row['mon_order_household'] = house['order_amount'].mean()\n",
    "    row['mon_order_leasing'] = lease['order_amount'].mean()\n",
    "    \n",
    "    return row\n",
    "\n",
    "order = order.groupby('account_id').apply(order_agg)\n",
    "\n",
    "order_df = order.drop(['order_id', 'order_bank_to', 'order_account_to','order_amount','order_k_symbol'], axis=1).drop_duplicates()\n",
    "\n",
    "order_df = order_df.fillna(0)"
   ]
  },
  {
   "cell_type": "markdown",
   "metadata": {},
   "source": [
    "#### Preprocessing the Loan dataset"
   ]
  },
  {
   "cell_type": "code",
   "execution_count": 12,
   "metadata": {
    "collapsed": true
   },
   "outputs": [],
   "source": [
    "# Rename loan columns\n",
    "loan = loan.rename(columns={'amount': 'loan_amount', 'duration':'loan_duration', \n",
    "                                  'payments':'monthly_loan_payment', 'status':'loan_status','date':'loan_date'})\n",
    "\n",
    "# convert loan date to normal date\n",
    "loan['loan_date'] = loan.loan_date.apply(get_date)"
   ]
  },
  {
   "cell_type": "markdown",
   "metadata": {},
   "source": [
    "#### Preprocessing the Transaction dataset"
   ]
  },
  {
   "cell_type": "code",
   "execution_count": 13,
   "metadata": {
    "collapsed": true
   },
   "outputs": [],
   "source": [
    "# Rename transaction columns\n",
    "trans = trans.rename(columns={'amount': 'trans_amount', 'balance':'balance_after_trans', \n",
    "                                    'bank':'trans_bank_partner', 'account':'trans_account_partner',\n",
    "                                    'date':'trans_date','type':'trans_type','operation':'trans_operation',\n",
    "                                    'k_symbol':'trans_k_symbol'})\n",
    "\n",
    "# convert transaction date to normal date\n",
    "trans['trans_date'] = trans.trans_date.apply(get_date)\n",
    "\n",
    "# convert transaction type to english\n",
    "trans_type_options = defaultdict(lambda: 'UNKNOWN', \n",
    "                           {'PRIJEM': 'CREDIT', \n",
    "                            'VYDAJ': 'WITHDRAWAL'})\n",
    "\n",
    "trans['trans_type'] = trans.trans_type.apply(lambda x: trans_type_options[x])\n",
    "\n",
    "# convert transaction Operation to english\n",
    "trans_op_options = defaultdict(lambda: 'UNKNOWN', \n",
    "                           {'VYBER KARTOU': 'CC_WITHDRAWAL', \n",
    "                            'VKLAD': 'CREDIT_IN_CASH',\n",
    "                            'PREVOD Z UCTU':'COLLECTION_FROM_OTHER_BANK',\n",
    "                            'VYBER':'WITHDRAWAL_IN_CASH',\n",
    "                            'PREVOD NA UCET':'REMITTANCE_TO_OTHER_BANK'})\n",
    "\n",
    "trans['trans_operation'] = trans.trans_operation.apply(lambda x: trans_op_options[x])\n",
    "\n",
    "# convert transaction K-symbol to english\n",
    "trans_k_symbol_options = defaultdict(lambda: 'UNKNOWN', \n",
    "                           {'POJISTNE': 'INSURANCE_PAYMENT', \n",
    "                            'SLUZBY': 'PAYMENT_FOR_STATEMENT',\n",
    "                            'UROK': 'INTEREST_CREDITED',\n",
    "                            'SANKC. UROK': 'SANCTION_INTEREST',\n",
    "                            'SIPO': 'HOUSEHOLD',\n",
    "                            'DUCHOD': 'OLD_AGE_PENSION',\n",
    "                            'UVER': 'LOAN_PAYMENT'})\n",
    "\n",
    "trans['trans_k_symbol'] = trans.trans_k_symbol.apply(lambda x: trans_k_symbol_options[x])"
   ]
  },
  {
   "cell_type": "code",
   "execution_count": 14,
   "metadata": {},
   "outputs": [
    {
     "data": {
      "text/plain": [
       "trans_operation             trans_type\n",
       "CC_WITHDRAWAL               WITHDRAWAL      8036\n",
       "COLLECTION_FROM_OTHER_BANK  CREDIT         65226\n",
       "CREDIT_IN_CASH              CREDIT        156743\n",
       "REMITTANCE_TO_OTHER_BANK    WITHDRAWAL    208283\n",
       "UNKNOWN                     CREDIT        183114\n",
       "WITHDRAWAL_IN_CASH          UNKNOWN        16666\n",
       "                            WITHDRAWAL    418252\n",
       "Name: trans_id, dtype: int64"
      ]
     },
     "execution_count": 14,
     "metadata": {},
     "output_type": "execute_result"
    }
   ],
   "source": [
    "# WITHDRAWAL_IN_CASH has trans_type UNKNOWN or WITHDRAWAL\n",
    "# so we can replace all UNKNOWN to WITHDRAWAL\n",
    "trans.groupby(['trans_operation', 'trans_type'])['trans_id'].count()"
   ]
  },
  {
   "cell_type": "code",
   "execution_count": 15,
   "metadata": {
    "collapsed": true
   },
   "outputs": [],
   "source": [
    "trans.loc[trans['trans_type'] == 'UNKNOWN', 'trans_type'] = 'WITHDRAWAL'"
   ]
  },
  {
   "cell_type": "code",
   "execution_count": 18,
   "metadata": {
    "collapsed": true
   },
   "outputs": [],
   "source": [
    "# Function to create date category\n",
    "def date_category(date_val):\n",
    "    if(date_val < datetime.datetime(year=1995, day=1, month=1)):\n",
    "        return(\"First_3_years\")\n",
    "    else:\n",
    "        return(\"Last_3_years\")\n",
    "\n",
    "trans['trans_date_category'] = trans.trans_date.apply(date_category)\n",
    "\n",
    "# Function to Recency, Frequency and Monetory aggregated values - Transactional data\n",
    "def rfm(row): \n",
    "    ref_date = datetime.datetime(year=1999, day=1, month=1)\n",
    "    row['recent_transaction'] = (ref_date - row['trans_date'].max()).days\n",
    "    row['length_of_relationship'] = (row['trans_date'].max() - row['trans_date'].min()).days\n",
    "    row['mon_avg_balance'] = row['balance_after_trans'].mean()\n",
    "    row['freq_transaction'] = row['trans_id'].count()\n",
    "    \n",
    "    cred = row.loc[(row.trans_type == 'CREDIT')]\n",
    "    withdraw = row.loc[(row.trans_type == 'WITHDRAWAL')]\n",
    "    \n",
    "    row['mon_trans_cred'] = cred['trans_amount'].mean()\n",
    "    row['mon_trans_withraw'] = withdraw['trans_amount'].mean()\n",
    "    \n",
    "    First_3_years = row.loc[(row.trans_date_category == 'First_3_years')]\n",
    "    Last_3_years = row.loc[(row.trans_date_category == 'Last_3_years')]\n",
    "    \n",
    "    row['freq_first_3years'] = First_3_years['trans_id'].count()\n",
    "    row['freq_last_3years'] = Last_3_years['trans_id'].count()\n",
    "    \n",
    "    return row\n",
    "\n",
    "trans = trans.groupby('account_id').apply(rfm)\n",
    "\n",
    "trans_df = trans.drop(['trans_id', 'trans_date', 'trans_date_category','trans_type','trans_operation','trans_amount','balance_after_trans','trans_k_symbol','trans_bank_partner','trans_account_partner'], axis=1).drop_duplicates()\n",
    "\n",
    "trans_df.to_pickle('data_berka/trans.pkl')\n",
    "trans_df.to_csv('data_berka/trans.csv')"
   ]
  },
  {
   "cell_type": "markdown",
   "metadata": {},
   "source": [
    "#### Merging & dumy variables"
   ]
  },
  {
   "cell_type": "code",
   "execution_count": 21,
   "metadata": {
    "collapsed": true
   },
   "outputs": [],
   "source": [
    "df = pd.merge(client, disp, on=\"client_id\",how='left')\n",
    "df = df.merge(card, on=\"disp_id\",how='left')\n",
    "df = df.merge(district, on=\"district_id\",how='left')\n",
    "df = df.merge(account, on=\"account_id\",how='left')\n",
    "df = df.merge(order_df, on=\"account_id\",how='left')\n",
    "df = df.merge(loan, on=\"account_id\",how='left')\n",
    "df = df.merge(trans_df, on=\"account_id\",how='left')\n",
    "\n",
    "#df = pd.get_dummies(df, drop_first=True)"
   ]
  },
  {
   "cell_type": "code",
   "execution_count": 22,
   "metadata": {},
   "outputs": [
    {
     "data": {
      "text/html": [
       "<div>\n",
       "<style>\n",
       "    .dataframe thead tr:only-child th {\n",
       "        text-align: right;\n",
       "    }\n",
       "\n",
       "    .dataframe thead th {\n",
       "        text-align: left;\n",
       "    }\n",
       "\n",
       "    .dataframe tbody tr th {\n",
       "        vertical-align: top;\n",
       "    }\n",
       "</style>\n",
       "<table border=\"1\" class=\"dataframe\">\n",
       "  <thead>\n",
       "    <tr style=\"text-align: right;\">\n",
       "      <th></th>\n",
       "      <th>client_id</th>\n",
       "      <th>district_id</th>\n",
       "      <th>client_age</th>\n",
       "      <th>client_gender</th>\n",
       "      <th>disp_id</th>\n",
       "      <th>account_id</th>\n",
       "      <th>disp_type</th>\n",
       "      <th>card_id</th>\n",
       "      <th>card_type</th>\n",
       "      <th>days_since_card_issuance</th>\n",
       "      <th>...</th>\n",
       "      <th>monthly_loan_payment</th>\n",
       "      <th>loan_status</th>\n",
       "      <th>recent_transaction</th>\n",
       "      <th>length_of_relationship</th>\n",
       "      <th>mon_avg_balance</th>\n",
       "      <th>freq_transaction</th>\n",
       "      <th>mon_trans_cred</th>\n",
       "      <th>mon_trans_withraw</th>\n",
       "      <th>freq_first_3years</th>\n",
       "      <th>freq_last_3years</th>\n",
       "    </tr>\n",
       "  </thead>\n",
       "  <tbody>\n",
       "    <tr>\n",
       "      <th>0</th>\n",
       "      <td>1</td>\n",
       "      <td>18</td>\n",
       "      <td>48.04</td>\n",
       "      <td>F</td>\n",
       "      <td>1</td>\n",
       "      <td>1</td>\n",
       "      <td>OWNER</td>\n",
       "      <td>NaN</td>\n",
       "      <td>NaN</td>\n",
       "      <td>NaN</td>\n",
       "      <td>...</td>\n",
       "      <td>NaN</td>\n",
       "      <td>NaN</td>\n",
       "      <td>1</td>\n",
       "      <td>1378</td>\n",
       "      <td>15994.008368</td>\n",
       "      <td>239</td>\n",
       "      <td>1905.102941</td>\n",
       "      <td>1320.102190</td>\n",
       "      <td>0</td>\n",
       "      <td>239</td>\n",
       "    </tr>\n",
       "    <tr>\n",
       "      <th>1</th>\n",
       "      <td>2</td>\n",
       "      <td>1</td>\n",
       "      <td>73.91</td>\n",
       "      <td>M</td>\n",
       "      <td>2</td>\n",
       "      <td>2</td>\n",
       "      <td>OWNER</td>\n",
       "      <td>NaN</td>\n",
       "      <td>NaN</td>\n",
       "      <td>NaN</td>\n",
       "      <td>...</td>\n",
       "      <td>3373.0</td>\n",
       "      <td>A</td>\n",
       "      <td>1</td>\n",
       "      <td>2134</td>\n",
       "      <td>36540.704393</td>\n",
       "      <td>478</td>\n",
       "      <td>10506.930921</td>\n",
       "      <td>4768.177301</td>\n",
       "      <td>139</td>\n",
       "      <td>339</td>\n",
       "    </tr>\n",
       "    <tr>\n",
       "      <th>2</th>\n",
       "      <td>3</td>\n",
       "      <td>1</td>\n",
       "      <td>78.23</td>\n",
       "      <td>F</td>\n",
       "      <td>3</td>\n",
       "      <td>2</td>\n",
       "      <td>DISPONENT</td>\n",
       "      <td>NaN</td>\n",
       "      <td>NaN</td>\n",
       "      <td>NaN</td>\n",
       "      <td>...</td>\n",
       "      <td>3373.0</td>\n",
       "      <td>A</td>\n",
       "      <td>1</td>\n",
       "      <td>2134</td>\n",
       "      <td>36540.704393</td>\n",
       "      <td>478</td>\n",
       "      <td>10506.930921</td>\n",
       "      <td>4768.177301</td>\n",
       "      <td>139</td>\n",
       "      <td>339</td>\n",
       "    </tr>\n",
       "    <tr>\n",
       "      <th>3</th>\n",
       "      <td>4</td>\n",
       "      <td>5</td>\n",
       "      <td>62.08</td>\n",
       "      <td>M</td>\n",
       "      <td>4</td>\n",
       "      <td>3</td>\n",
       "      <td>OWNER</td>\n",
       "      <td>NaN</td>\n",
       "      <td>NaN</td>\n",
       "      <td>NaN</td>\n",
       "      <td>...</td>\n",
       "      <td>NaN</td>\n",
       "      <td>NaN</td>\n",
       "      <td>1</td>\n",
       "      <td>542</td>\n",
       "      <td>26973.506838</td>\n",
       "      <td>117</td>\n",
       "      <td>3762.152174</td>\n",
       "      <td>1717.785915</td>\n",
       "      <td>0</td>\n",
       "      <td>117</td>\n",
       "    </tr>\n",
       "    <tr>\n",
       "      <th>4</th>\n",
       "      <td>5</td>\n",
       "      <td>5</td>\n",
       "      <td>58.49</td>\n",
       "      <td>F</td>\n",
       "      <td>5</td>\n",
       "      <td>3</td>\n",
       "      <td>DISPONENT</td>\n",
       "      <td>NaN</td>\n",
       "      <td>NaN</td>\n",
       "      <td>NaN</td>\n",
       "      <td>...</td>\n",
       "      <td>NaN</td>\n",
       "      <td>NaN</td>\n",
       "      <td>1</td>\n",
       "      <td>542</td>\n",
       "      <td>26973.506838</td>\n",
       "      <td>117</td>\n",
       "      <td>3762.152174</td>\n",
       "      <td>1717.785915</td>\n",
       "      <td>0</td>\n",
       "      <td>117</td>\n",
       "    </tr>\n",
       "  </tbody>\n",
       "</table>\n",
       "<p>5 rows × 49 columns</p>\n",
       "</div>"
      ],
      "text/plain": [
       "   client_id  district_id  client_age client_gender  disp_id  account_id  \\\n",
       "0          1           18       48.04             F        1           1   \n",
       "1          2            1       73.91             M        2           2   \n",
       "2          3            1       78.23             F        3           2   \n",
       "3          4            5       62.08             M        4           3   \n",
       "4          5            5       58.49             F        5           3   \n",
       "\n",
       "   disp_type  card_id card_type  days_since_card_issuance        ...         \\\n",
       "0      OWNER      NaN       NaN                       NaN        ...          \n",
       "1      OWNER      NaN       NaN                       NaN        ...          \n",
       "2  DISPONENT      NaN       NaN                       NaN        ...          \n",
       "3      OWNER      NaN       NaN                       NaN        ...          \n",
       "4  DISPONENT      NaN       NaN                       NaN        ...          \n",
       "\n",
       "  monthly_loan_payment loan_status  recent_transaction  \\\n",
       "0                  NaN         NaN                   1   \n",
       "1               3373.0           A                   1   \n",
       "2               3373.0           A                   1   \n",
       "3                  NaN         NaN                   1   \n",
       "4                  NaN         NaN                   1   \n",
       "\n",
       "   length_of_relationship  mon_avg_balance  freq_transaction  mon_trans_cred  \\\n",
       "0                    1378     15994.008368               239     1905.102941   \n",
       "1                    2134     36540.704393               478    10506.930921   \n",
       "2                    2134     36540.704393               478    10506.930921   \n",
       "3                     542     26973.506838               117     3762.152174   \n",
       "4                     542     26973.506838               117     3762.152174   \n",
       "\n",
       "   mon_trans_withraw  freq_first_3years  freq_last_3years  \n",
       "0        1320.102190                  0               239  \n",
       "1        4768.177301                139               339  \n",
       "2        4768.177301                139               339  \n",
       "3        1717.785915                  0               117  \n",
       "4        1717.785915                  0               117  \n",
       "\n",
       "[5 rows x 49 columns]"
      ]
     },
     "execution_count": 22,
     "metadata": {},
     "output_type": "execute_result"
    }
   ],
   "source": [
    "df.head()"
   ]
  },
  {
   "cell_type": "code",
   "execution_count": 23,
   "metadata": {},
   "outputs": [
    {
     "name": "stderr",
     "output_type": "stream",
     "text": [
      "C:\\Users\\SIDDY\\Anaconda3\\lib\\site-packages\\ipykernel_launcher.py:15: SettingWithCopyWarning: \n",
      "A value is trying to be set on a copy of a slice from a DataFrame\n",
      "\n",
      "See the caveats in the documentation: http://pandas.pydata.org/pandas-docs/stable/indexing.html#indexing-view-versus-copy\n",
      "  from ipykernel import kernelapp as app\n",
      "C:\\Users\\SIDDY\\Anaconda3\\lib\\site-packages\\ipykernel_launcher.py:16: SettingWithCopyWarning: \n",
      "A value is trying to be set on a copy of a slice from a DataFrame\n",
      "\n",
      "See the caveats in the documentation: http://pandas.pydata.org/pandas-docs/stable/indexing.html#indexing-view-versus-copy\n",
      "  app.launch_new_instance()\n"
     ]
    }
   ],
   "source": [
    "# Identifying attractive customers\n",
    "df[\"potential_loan\"] = ((df.client_age < 70) # Cut-off old clients from long-term loan propositions\n",
    "& (df.disp_type == \"OWNER\") # Only address the decision-makers\n",
    "& (df.mon_avg_balance > 0) # Select those with a positive cash-flow\n",
    "& (df.mon_trans_withraw > 0.5*df.mon_trans_cred) # Select those who spend at least half of what they earn (cut-off big savers)\n",
    "& (df.loan_status != \"B\") & (df.loan_status != \"C\") & (df.loan_status != \"D\") # Select those who never borrowed | those who did and paid back\n",
    "& (df.freq_first_3years < df.freq_last_3years)) # Select the ones who show an increase of activity recently\n",
    "\n",
    "# Identifying risky customers\n",
    "df[\"risky_customer\"] = ((df.loan_status == \"B\") | (df.loan_status == \"D\") # Identify customers having debt issues\n",
    "                        | (df.mon_avg_balance < 0)) # Identify customers with risky cash-flow\n",
    "                        \n",
    "\n",
    "df[\"type_of_customer\"] = \"regular\"\n",
    "df[\"type_of_customer\"][df[\"potential_loan\"]] = \"prospect\"\n",
    "df[\"type_of_customer\"][df[\"risky_customer\"]] = \"risky\""
   ]
  },
  {
   "cell_type": "code",
   "execution_count": 24,
   "metadata": {
    "collapsed": true
   },
   "outputs": [],
   "source": [
    "df.to_pickle('data_berka/basetable.pkl')\n",
    "df.to_csv('data_berka/basetable.csv')"
   ]
  },
  {
   "cell_type": "code",
   "execution_count": null,
   "metadata": {
    "collapsed": true
   },
   "outputs": [],
   "source": []
  }
 ],
 "metadata": {
  "kernelspec": {
   "display_name": "Python 3",
   "language": "python",
   "name": "python3"
  },
  "language_info": {
   "codemirror_mode": {
    "name": "ipython",
    "version": 3
   },
   "file_extension": ".py",
   "mimetype": "text/x-python",
   "name": "python",
   "nbconvert_exporter": "python",
   "pygments_lexer": "ipython3",
   "version": "3.5.4"
  }
 },
 "nbformat": 4,
 "nbformat_minor": 2
}
